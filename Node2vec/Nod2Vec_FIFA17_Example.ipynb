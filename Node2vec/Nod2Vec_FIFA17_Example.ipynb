{
  "nbformat": 4,
  "nbformat_minor": 0,
  "metadata": {
    "kernelspec": {
      "display_name": "Python 3",
      "language": "python",
      "name": "python3"
    },
    "language_info": {
      "codemirror_mode": {
        "name": "ipython",
        "version": 3
      },
      "file_extension": ".py",
      "mimetype": "text/x-python",
      "name": "python",
      "nbconvert_exporter": "python",
      "pygments_lexer": "ipython3",
      "version": "3.6.3"
    },
    "colab": {
      "name": "Nod2Vec-FIFA17-Example.ipynb",
      "provenance": [],
      "toc_visible": true
    }
  },
  "cells": [
    {
      "cell_type": "markdown",
      "metadata": {
        "id": "pzXHDmf7qq2z",
        "colab_type": "text"
      },
      "source": [
        "# Node2Vec showcase"
      ]
    },
    {
      "cell_type": "code",
      "metadata": {
        "id": "5MSSk49wq9ag",
        "colab_type": "code",
        "colab": {
          "base_uri": "https://localhost:8080/",
          "height": 462
        },
        "outputId": "621dbcdf-91ae-4ded-a38c-75b7753574ab"
      },
      "source": [
        "!pip install node2vec"
      ],
      "execution_count": 1,
      "outputs": [
        {
          "output_type": "stream",
          "text": [
            "Collecting node2vec\n",
            "  Downloading https://files.pythonhosted.org/packages/c0/da/7f0c49433ef91033e21d523e82be1570074a5d6ab8c74f8771774e9d2fd1/node2vec-0.3.2-py3-none-any.whl\n",
            "Requirement already satisfied: networkx in /usr/local/lib/python3.6/dist-packages (from node2vec) (2.4)\n",
            "Requirement already satisfied: gensim in /usr/local/lib/python3.6/dist-packages (from node2vec) (3.6.0)\n",
            "Requirement already satisfied: joblib>=0.13.2 in /usr/local/lib/python3.6/dist-packages (from node2vec) (0.16.0)\n",
            "Requirement already satisfied: tqdm in /usr/local/lib/python3.6/dist-packages (from node2vec) (4.41.1)\n",
            "Requirement already satisfied: numpy in /usr/local/lib/python3.6/dist-packages (from node2vec) (1.18.5)\n",
            "Requirement already satisfied: decorator>=4.3.0 in /usr/local/lib/python3.6/dist-packages (from networkx->node2vec) (4.4.2)\n",
            "Requirement already satisfied: scipy>=0.18.1 in /usr/local/lib/python3.6/dist-packages (from gensim->node2vec) (1.4.1)\n",
            "Requirement already satisfied: smart-open>=1.2.1 in /usr/local/lib/python3.6/dist-packages (from gensim->node2vec) (2.1.0)\n",
            "Requirement already satisfied: six>=1.5.0 in /usr/local/lib/python3.6/dist-packages (from gensim->node2vec) (1.15.0)\n",
            "Requirement already satisfied: boto3 in /usr/local/lib/python3.6/dist-packages (from smart-open>=1.2.1->gensim->node2vec) (1.14.22)\n",
            "Requirement already satisfied: requests in /usr/local/lib/python3.6/dist-packages (from smart-open>=1.2.1->gensim->node2vec) (2.23.0)\n",
            "Requirement already satisfied: boto in /usr/local/lib/python3.6/dist-packages (from smart-open>=1.2.1->gensim->node2vec) (2.49.0)\n",
            "Requirement already satisfied: s3transfer<0.4.0,>=0.3.0 in /usr/local/lib/python3.6/dist-packages (from boto3->smart-open>=1.2.1->gensim->node2vec) (0.3.3)\n",
            "Requirement already satisfied: jmespath<1.0.0,>=0.7.1 in /usr/local/lib/python3.6/dist-packages (from boto3->smart-open>=1.2.1->gensim->node2vec) (0.10.0)\n",
            "Requirement already satisfied: botocore<1.18.0,>=1.17.22 in /usr/local/lib/python3.6/dist-packages (from boto3->smart-open>=1.2.1->gensim->node2vec) (1.17.22)\n",
            "Requirement already satisfied: certifi>=2017.4.17 in /usr/local/lib/python3.6/dist-packages (from requests->smart-open>=1.2.1->gensim->node2vec) (2020.6.20)\n",
            "Requirement already satisfied: idna<3,>=2.5 in /usr/local/lib/python3.6/dist-packages (from requests->smart-open>=1.2.1->gensim->node2vec) (2.10)\n",
            "Requirement already satisfied: chardet<4,>=3.0.2 in /usr/local/lib/python3.6/dist-packages (from requests->smart-open>=1.2.1->gensim->node2vec) (3.0.4)\n",
            "Requirement already satisfied: urllib3!=1.25.0,!=1.25.1,<1.26,>=1.21.1 in /usr/local/lib/python3.6/dist-packages (from requests->smart-open>=1.2.1->gensim->node2vec) (1.24.3)\n",
            "Requirement already satisfied: python-dateutil<3.0.0,>=2.1 in /usr/local/lib/python3.6/dist-packages (from botocore<1.18.0,>=1.17.22->boto3->smart-open>=1.2.1->gensim->node2vec) (2.8.1)\n",
            "Requirement already satisfied: docutils<0.16,>=0.10 in /usr/local/lib/python3.6/dist-packages (from botocore<1.18.0,>=1.17.22->boto3->smart-open>=1.2.1->gensim->node2vec) (0.15.2)\n",
            "Installing collected packages: node2vec\n",
            "Successfully installed node2vec-0.3.2\n"
          ],
          "name": "stdout"
        }
      ]
    },
    {
      "cell_type": "markdown",
      "metadata": {
        "id": "oYxrABEcqq22",
        "colab_type": "text"
      },
      "source": [
        "\n",
        "Data is taken from https://www.kaggle.com/artimous/complete-fifa-2017-player-dataset-global?select=FullData.csv"
      ]
    },
    {
      "cell_type": "code",
      "metadata": {
        "id": "BdFc9x0Qk7sq",
        "colab_type": "code",
        "colab": {
          "base_uri": "https://localhost:8080/",
          "height": 204
        },
        "outputId": "142c7ed1-7e51-4a7d-c9a8-df25739c2274"
      },
      "source": [
        "!wget  https://www.kaggle.com/artimous/complete-fifa-2017-player-dataset-global?select=FullData.csv"
      ],
      "execution_count": 3,
      "outputs": [
        {
          "output_type": "stream",
          "text": [
            "--2020-07-23 02:50:09--  https://www.kaggle.com/artimous/complete-fifa-2017-player-dataset-global?select=FullData.csv\n",
            "Resolving www.kaggle.com (www.kaggle.com)... 35.244.233.98\n",
            "Connecting to www.kaggle.com (www.kaggle.com)|35.244.233.98|:443... connected.\n",
            "HTTP request sent, awaiting response... 200 OK\n",
            "Length: unspecified [text/html]\n",
            "Saving to: ‘complete-fifa-2017-player-dataset-global?select=FullData.csv’\n",
            "\n",
            "\r          complete-     [<=>                 ]       0  --.-KB/s               \rcomplete-fifa-2017-     [ <=>                ]  67.95K  --.-KB/s    in 0.001s  \n",
            "\n",
            "2020-07-23 02:50:09 (95.3 MB/s) - ‘complete-fifa-2017-player-dataset-global?select=FullData.csv’ saved [69584]\n",
            "\n"
          ],
          "name": "stdout"
        }
      ]
    },
    {
      "cell_type": "code",
      "metadata": {
        "id": "xkdhnwc_qq25",
        "colab_type": "code",
        "colab": {}
      },
      "source": [
        "%matplotlib inline\n",
        "\n",
        "import warnings\n",
        "from text_unidecode import unidecode\n",
        "from collections import deque\n",
        "warnings.filterwarnings('ignore')\n",
        "\n",
        "\n",
        "import pandas as pd\n",
        "from sklearn.manifold import TSNE\n",
        "import numpy as np\n",
        "import networkx as nx\n",
        "import matplotlib.pyplot as plt\n",
        "import matplotlib.patches as mpatches\n",
        "import seaborn as sns\n",
        "from node2vec import Node2Vec\n",
        "\n",
        "sns.set_style('whitegrid')"
      ],
      "execution_count": 2,
      "outputs": []
    },
    {
      "cell_type": "markdown",
      "metadata": {
        "id": "OJTMAoEHqq3G",
        "colab_type": "text"
      },
      "source": [
        "### Data loading and pre processing"
      ]
    },
    {
      "cell_type": "code",
      "metadata": {
        "id": "HZEI829oqq3I",
        "colab_type": "code",
        "colab": {
          "base_uri": "https://localhost:8080/",
          "height": 419
        },
        "outputId": "022540dc-f3a0-4db1-f711-29a30afd942d"
      },
      "source": [
        "# Load data \n",
        "data = pd.read_csv('./FullData.csv', usecols=['Name', 'Club', 'Club_Position', 'Rating'])\n",
        "\n",
        "# Lowercase columns for convenience\n",
        "data.columns = list(map(str.lower, data.columns))\n",
        "\n",
        "# Reformat strings: lowercase, ' ' -> '_' and é, ô etc. -> e, o\n",
        "reformat_string = lambda x: unidecode(str.lower(x).replace(' ', '_'))\n",
        "    \n",
        "data['name'] = data['name'].apply(reformat_string)\n",
        "data['club'] = data['club'].apply(reformat_string)\n",
        "\n",
        "# Lowercase position\n",
        "data['club_position'] = data['club_position'].str.lower()\n",
        "\n",
        "# Ignore substitutes and reserves \n",
        "data = data[(data['club_position'] != 'sub') & (data['club_position'] != 'res')]\n",
        "\n",
        "# Fix lcm rcm -> cm cm\n",
        "fix_positions = {'rcm' : 'cm', 'lcm': 'cm', 'rcb': 'cb', 'lcb': 'cb', 'ldm': 'cdm', 'rdm': 'cdm'}\n",
        "data['club_position'] = data['club_position'].apply(lambda x: fix_positions.get(x, x))\n",
        "\n",
        "# For example sake we will keep only 7 clubs\n",
        "clubs = {'real_madrid', 'manchester_utd', \n",
        "         'manchester_city', 'chelsea', 'juventus', \n",
        "         'fc_bayern', 'napoli'}\n",
        "\n",
        "data = data[data['club'].isin(clubs)]\n",
        "\n",
        "\n",
        "# Verify we have 11 player for each team\n",
        "assert all(n_players == 11 for n_players in data.groupby('club')['name'].nunique())\n",
        "\n",
        "data"
      ],
      "execution_count": 5,
      "outputs": [
        {
          "output_type": "execute_result",
          "data": {
            "text/html": [
              "<div>\n",
              "<style scoped>\n",
              "    .dataframe tbody tr th:only-of-type {\n",
              "        vertical-align: middle;\n",
              "    }\n",
              "\n",
              "    .dataframe tbody tr th {\n",
              "        vertical-align: top;\n",
              "    }\n",
              "\n",
              "    .dataframe thead th {\n",
              "        text-align: right;\n",
              "    }\n",
              "</style>\n",
              "<table border=\"1\" class=\"dataframe\">\n",
              "  <thead>\n",
              "    <tr style=\"text-align: right;\">\n",
              "      <th></th>\n",
              "      <th>name</th>\n",
              "      <th>club</th>\n",
              "      <th>club_position</th>\n",
              "      <th>rating</th>\n",
              "    </tr>\n",
              "  </thead>\n",
              "  <tbody>\n",
              "    <tr>\n",
              "      <th>0</th>\n",
              "      <td>cristiano_ronaldo</td>\n",
              "      <td>real_madrid</td>\n",
              "      <td>lw</td>\n",
              "      <td>94</td>\n",
              "    </tr>\n",
              "    <tr>\n",
              "      <th>4</th>\n",
              "      <td>manuel_neuer</td>\n",
              "      <td>fc_bayern</td>\n",
              "      <td>gk</td>\n",
              "      <td>92</td>\n",
              "    </tr>\n",
              "    <tr>\n",
              "      <th>5</th>\n",
              "      <td>de_gea</td>\n",
              "      <td>manchester_utd</td>\n",
              "      <td>gk</td>\n",
              "      <td>90</td>\n",
              "    </tr>\n",
              "    <tr>\n",
              "      <th>6</th>\n",
              "      <td>robert_lewandowski</td>\n",
              "      <td>fc_bayern</td>\n",
              "      <td>st</td>\n",
              "      <td>90</td>\n",
              "    </tr>\n",
              "    <tr>\n",
              "      <th>7</th>\n",
              "      <td>gareth_bale</td>\n",
              "      <td>real_madrid</td>\n",
              "      <td>rw</td>\n",
              "      <td>90</td>\n",
              "    </tr>\n",
              "    <tr>\n",
              "      <th>...</th>\n",
              "      <td>...</td>\n",
              "      <td>...</td>\n",
              "      <td>...</td>\n",
              "      <td>...</td>\n",
              "    </tr>\n",
              "    <tr>\n",
              "      <th>615</th>\n",
              "      <td>marcos_alonso</td>\n",
              "      <td>chelsea</td>\n",
              "      <td>lwb</td>\n",
              "      <td>79</td>\n",
              "    </tr>\n",
              "    <tr>\n",
              "      <th>687</th>\n",
              "      <td>gael_clichy</td>\n",
              "      <td>manchester_city</td>\n",
              "      <td>lb</td>\n",
              "      <td>79</td>\n",
              "    </tr>\n",
              "    <tr>\n",
              "      <th>850</th>\n",
              "      <td>victor_moses</td>\n",
              "      <td>chelsea</td>\n",
              "      <td>rwb</td>\n",
              "      <td>78</td>\n",
              "    </tr>\n",
              "    <tr>\n",
              "      <th>892</th>\n",
              "      <td>willy_caballero</td>\n",
              "      <td>manchester_city</td>\n",
              "      <td>gk</td>\n",
              "      <td>78</td>\n",
              "    </tr>\n",
              "    <tr>\n",
              "      <th>1206</th>\n",
              "      <td>amadou_diawara</td>\n",
              "      <td>napoli</td>\n",
              "      <td>cm</td>\n",
              "      <td>76</td>\n",
              "    </tr>\n",
              "  </tbody>\n",
              "</table>\n",
              "<p>77 rows × 4 columns</p>\n",
              "</div>"
            ],
            "text/plain": [
              "                    name             club club_position  rating\n",
              "0      cristiano_ronaldo      real_madrid            lw      94\n",
              "4           manuel_neuer        fc_bayern            gk      92\n",
              "5                 de_gea   manchester_utd            gk      90\n",
              "6     robert_lewandowski        fc_bayern            st      90\n",
              "7            gareth_bale      real_madrid            rw      90\n",
              "...                  ...              ...           ...     ...\n",
              "615        marcos_alonso          chelsea           lwb      79\n",
              "687          gael_clichy  manchester_city            lb      79\n",
              "850         victor_moses          chelsea           rwb      78\n",
              "892      willy_caballero  manchester_city            gk      78\n",
              "1206      amadou_diawara           napoli            cm      76\n",
              "\n",
              "[77 rows x 4 columns]"
            ]
          },
          "metadata": {
            "tags": []
          },
          "execution_count": 5
        }
      ]
    },
    {
      "cell_type": "markdown",
      "metadata": {
        "id": "K5TyRfVyqq3S",
        "colab_type": "text"
      },
      "source": [
        "Here comes the ugly part.\n",
        "Since we want to put each team of a graph of nodes and edges, I had to hard-code the relationship between the different FIFA 17 formations.\n",
        "\n",
        "Also since some formations have the same role (CB for example) in different positions connected to different players, I first use a distinct name for each role which after the learning process I will trim so the positions will be the same.\n",
        "\n",
        "Finally since position are connected differently in each formation we will add a suffix for the graph presentation and we will trim it also before the Word2vec process\n",
        "\n",
        "Example:\n",
        "\n",
        "`'cb'` will become `'cb_1_real_madrid'` because it is the first CB, in Real Madrid's formation, and before running the Word2Vec algorithm it will be trimmed to `cb` again\n",
        "\n",
        "### Formations"
      ]
    },
    {
      "cell_type": "code",
      "metadata": {
        "id": "_Yet_wS_qq3T",
        "colab_type": "code",
        "colab": {}
      },
      "source": [
        "FORMATIONS = {'4-3-3_4': {'gk': ['cb_1', 'cb_2'],                           # Real madrid\n",
        "                          'lb': ['lw', 'cb_1', 'cm_1'],\n",
        "                          'cb_1': ['lb', 'cb_2', 'gk'],\n",
        "                          'cb_2': ['rb', 'cb_1', 'gk'],\n",
        "                          'rb': ['rw', 'cb_2', 'cm_2'],\n",
        "                          'cm_1': ['cam', 'lw', 'cb_1', 'lb'],\n",
        "                          'cm_2': ['cam', 'rw', 'cb_2', 'rb'],\n",
        "                          'cam': ['cm_1', 'cm_2', 'st'],\n",
        "                          'lw': ['cm_1', 'lb', 'st'],\n",
        "                          'rw': ['cm_2', 'rb', 'st'],\n",
        "                          'st': ['cam', 'lw', 'rw']},\n",
        "              '5-2-2-1': {'gk': ['cb_1', 'cb_2', 'cb_3'],                   # Chelsea\n",
        "                          'cb_1': ['gk', 'cb_2', 'lwb'],\n",
        "                          'cb_2': ['gk', 'cb_1', 'cb_3', 'cm_1', 'cb_2'],\n",
        "                          'cb_3': ['gk', 'cb_2', 'rwb'],\n",
        "                          'lwb': ['cb_1', 'cm_1', 'lw'],\n",
        "                          'cm_1': ['lwb', 'cb_2', 'cm_2', 'lw', 'st'],\n",
        "                          'cm_2': ['rwb', 'cb_2', 'cm_1', 'rw', 'st'],\n",
        "                          'rwb': ['cb_3', 'cm_2', 'rw'],\n",
        "                          'lw': ['lwb', 'cm_1', 'st'],\n",
        "                          'st': ['lw', 'cm_1', 'cm_2', 'rw'],\n",
        "                          'rw': ['st', 'rwb', 'cm_2']},\n",
        "              '4-3-3_2': {'gk': ['cb_1', 'cb_2'],                           # Man UTD / CITY\n",
        "                          'lb': ['cb_1', 'cm_1'],\n",
        "                          'cb_1': ['lb', 'cb_2', 'gk', 'cdm'],\n",
        "                          'cb_2': ['rb', 'cb_1', 'gk', 'cdm'],\n",
        "                          'rb': ['cb_2', 'cm_2'],\n",
        "                          'cm_1': ['cdm', 'lw', 'lb', 'st'],\n",
        "                          'cm_2': ['cdm', 'rw', 'st', 'rb'],\n",
        "                          'cdm': ['cm_1', 'cm_2', 'cb_1', 'cb_2'],\n",
        "                          'lw': ['cm_1', 'st'],\n",
        "                          'rw': ['cm_2', 'st'],\n",
        "                          'st': ['cm_1', 'cm_2', 'lw', 'rw']},              # Juventus, Bayern\n",
        "              '4-2-3-1_2': {'gk': ['cb_1', 'cb_2'],\n",
        "                            'lb': ['lm', 'cdm_1', 'cb_1'],\n",
        "                            'cb_1': ['lb', 'cdm_1', 'gk', 'cb_2'],\n",
        "                            'cb_2': ['rb', 'cdm_2', 'gk', 'cb_1'],\n",
        "                            'rb': ['cb_2', 'rm', 'cdm_2'],\n",
        "                            'lm': ['lb', 'cdm_1', 'st', 'cam'],\n",
        "                            'rm': ['rb', 'cdm_2', 'st', 'cam'],\n",
        "                            'cdm_1': ['lm', 'cb_1', 'rb', 'cam'],\n",
        "                            'cdm_2': ['rm', 'cb_2', 'lb', 'cam'],\n",
        "                            'cam': ['cdm_1', 'cdm_2', 'rm', 'lm', 'st'],\n",
        "                            'st': ['lm', 'rm', 'cam']},\n",
        "              '4-3-3': {'gk': ['cb_1', 'cb_2'],                             # Napoli\n",
        "                        'lb': ['cb_1', 'cm_1'],\n",
        "                        'cb_1': ['lb', 'cb_2', 'gk', 'cm_2'],\n",
        "                        'cb_2': ['rb', 'cb_1', 'gk', 'cm_2'],\n",
        "                        'rb': ['cb_2', 'cm_3'],\n",
        "                        'cm_1': ['cm_2', 'lw', 'lb'],\n",
        "                        'cm_3': ['cm_2', 'rw', 'rb'],\n",
        "                        'cm_2': ['cm_1', 'cm_3', 'st', 'cb_1', 'cb_2'],\n",
        "                        'lw': ['cm_1', 'st'],\n",
        "                        'rw': ['cm_3', 'st'],\n",
        "                        'st': ['cm_2', 'lw', 'rw']}}\n"
      ],
      "execution_count": 6,
      "outputs": []
    },
    {
      "cell_type": "markdown",
      "metadata": {
        "id": "yV3QJ-nDqq3a",
        "colab_type": "text"
      },
      "source": [
        "### Creating the graphs for each team"
      ]
    },
    {
      "cell_type": "code",
      "metadata": {
        "id": "SN-OZrtEqq3b",
        "colab_type": "code",
        "colab": {}
      },
      "source": [
        "add_club_suffix = lambda x, c: x + '_{}'.format(c)\n",
        "\n",
        "graph = nx.Graph()\n",
        "formatted_positions = set()\n",
        "\n",
        "def club2graph(club_name, formation, graph):\n",
        "    club_data = data[data['club'] == club_name]\n",
        "    \n",
        "    club_formation = FORMATIONS[formation]\n",
        "    \n",
        "    club_positions = dict()\n",
        "    \n",
        "    # Assign positions to players\n",
        "    available_positions = deque(club_formation)\n",
        "    available_players = set(zip(club_data['name'], club_data['club_position']))\n",
        "    \n",
        "    roster = dict()  # Here we will store the assigned players and positions\n",
        "    \n",
        "    while available_positions:\n",
        "        position = available_positions.pop()\n",
        "        name, pos = [(name, position) for name, p in available_players if position.startswith(p)][0]        \n",
        "        \n",
        "        roster[name] = pos\n",
        "        \n",
        "        available_players.remove((name, pos.split('_')[0]))\n",
        "        \n",
        "    reverse_roster = {v: k for k, v in roster.items()}\n",
        "        \n",
        "    # Build the graph\n",
        "    for name, position in roster.items():\n",
        "        # Connect to team name\n",
        "        graph.add_edge(name, club_name)\n",
        "        \n",
        "        # Inter team connections\n",
        "        for teammate_position in club_formation[position]:\n",
        "            # Connect positions\n",
        "            graph.add_edge(add_club_suffix(position, club_name),\n",
        "                           add_club_suffix(teammate_position, club_name))\n",
        "            \n",
        "            # Connect player to teammate positions\n",
        "            graph.add_edge(name,\n",
        "                           add_club_suffix(teammate_position, club_name))\n",
        "            \n",
        "            # Connect player to teammates\n",
        "            graph.add_edge(name, reverse_roster[teammate_position])\n",
        "            \n",
        "            # Save for later trimming\n",
        "            formatted_positions.add(add_club_suffix(position, club_name))\n",
        "            formatted_positions.add(add_club_suffix(teammate_position, club_name))\n",
        "            \n",
        "    return graph"
      ],
      "execution_count": 7,
      "outputs": []
    },
    {
      "cell_type": "code",
      "metadata": {
        "id": "amwm4H9uqq3g",
        "colab_type": "code",
        "colab": {}
      },
      "source": [
        "teams = [('real_madrid', '4-3-3_4'), \n",
        "         ('chelsea', '5-2-2-1'),\n",
        "         ('manchester_utd', '4-3-3_2'),\n",
        "         ('manchester_city', '4-3-3_2'),\n",
        "         ('juventus', '4-2-3-1_2'),\n",
        "         ('fc_bayern', '4-2-3-1_2'),\n",
        "         ('napoli', '4-3-3')]"
      ],
      "execution_count": 8,
      "outputs": []
    },
    {
      "cell_type": "code",
      "metadata": {
        "id": "embvEzEGqq3o",
        "colab_type": "code",
        "colab": {}
      },
      "source": [
        "graph = club2graph('real_madrid', '4-3-3_4', graph)\n",
        "\n",
        "for team, formation in teams:\n",
        "    graph = club2graph(team, formation, graph)"
      ],
      "execution_count": 9,
      "outputs": []
    },
    {
      "cell_type": "markdown",
      "metadata": {
        "id": "SJrfWyonqq3w",
        "colab_type": "text"
      },
      "source": [
        "### Node2Vec algorithm"
      ]
    },
    {
      "cell_type": "code",
      "metadata": {
        "id": "AsqssI73qq3x",
        "colab_type": "code",
        "colab": {
          "base_uri": "https://localhost:8080/",
          "height": 34
        },
        "outputId": "e58eeaf1-31e7-40d1-b48b-6b9a24857eac"
      },
      "source": [
        "node2vec = Node2Vec(graph, dimensions=20, walk_length=16, num_walks=100, workers=2)"
      ],
      "execution_count": 10,
      "outputs": [
        {
          "output_type": "stream",
          "text": [
            "Computing transition probabilities: 100%|██████████| 161/161 [00:00<00:00, 2875.26it/s]\n"
          ],
          "name": "stderr"
        }
      ]
    },
    {
      "cell_type": "code",
      "metadata": {
        "id": "bx9udn2Kqq37",
        "colab_type": "code",
        "colab": {}
      },
      "source": [
        "fix_formatted_positions = lambda x: x.split('_')[0] if x in formatted_positions else x\n",
        "reformatted_walks = [list(map(fix_formatted_positions, walk)) for walk in node2vec.walks]\n",
        "node2vec.walks = reformatted_walks"
      ],
      "execution_count": 11,
      "outputs": []
    },
    {
      "cell_type": "code",
      "metadata": {
        "id": "DNdeemfEqq4C",
        "colab_type": "code",
        "colab": {}
      },
      "source": [
        "model = node2vec.fit(window=10, min_count=1)"
      ],
      "execution_count": 12,
      "outputs": []
    },
    {
      "cell_type": "markdown",
      "metadata": {
        "id": "WPJC_fgaqq4K",
        "colab_type": "text"
      },
      "source": [
        "#### Most similar nodes"
      ]
    },
    {
      "cell_type": "code",
      "metadata": {
        "id": "1xGZtC07qq4L",
        "colab_type": "code",
        "colab": {
          "base_uri": "https://localhost:8080/",
          "height": 136
        },
        "outputId": "aefb04df-d8fe-47aa-cab4-cbe6b993ae92"
      },
      "source": [
        "for node, _ in model.most_similar('rw'):\n",
        "    # Show only players\n",
        "    if len(node) > 3:\n",
        "        print(node)"
      ],
      "execution_count": 13,
      "outputs": [
        {
          "output_type": "stream",
          "text": [
            "pedro\n",
            "jose_callejon\n",
            "raheem_sterling\n",
            "henrikh_mkhitaryan\n",
            "gareth_bale\n",
            "kevin_de_bruyne\n",
            "sergio_aguero\n"
          ],
          "name": "stdout"
        }
      ]
    },
    {
      "cell_type": "code",
      "metadata": {
        "id": "3Z6DRqKpqq4R",
        "colab_type": "code",
        "colab": {
          "base_uri": "https://localhost:8080/",
          "height": 136
        },
        "outputId": "295635fe-ae4a-4c64-ff84-3303896aeeba"
      },
      "source": [
        "for node, _ in model.most_similar('gk'):\n",
        "    # Show only players\n",
        "    if len(node) > 3:\n",
        "        print(node)"
      ],
      "execution_count": 14,
      "outputs": [
        {
          "output_type": "stream",
          "text": [
            "gianluigi_buffon\n",
            "keylor_navas\n",
            "manuel_neuer\n",
            "gary_cahill\n",
            "willy_caballero\n",
            "thibaut_courtois\n",
            "eric_bailly\n"
          ],
          "name": "stdout"
        }
      ]
    },
    {
      "cell_type": "code",
      "metadata": {
        "id": "gkUVT4xdqq4Z",
        "colab_type": "code",
        "colab": {
          "base_uri": "https://localhost:8080/",
          "height": 187
        },
        "outputId": "5e5cb0db-b578-4db0-d210-e38972a726a9"
      },
      "source": [
        "for node, _ in model.most_similar('real_madrid'):\n",
        "    print(node)"
      ],
      "execution_count": 15,
      "outputs": [
        {
          "output_type": "stream",
          "text": [
            "james_rodriguez\n",
            "toni_kroos\n",
            "carvajal\n",
            "gareth_bale\n",
            "cristiano_ronaldo\n",
            "luka_modric\n",
            "marcelo\n",
            "pepe\n",
            "keylor_navas\n",
            "sergio_ramos\n"
          ],
          "name": "stdout"
        }
      ]
    },
    {
      "cell_type": "code",
      "metadata": {
        "id": "o5oRsZ3mqq4e",
        "colab_type": "code",
        "colab": {
          "base_uri": "https://localhost:8080/",
          "height": 187
        },
        "outputId": "cbfe60d1-83cb-46b6-e9db-41180164e050"
      },
      "source": [
        "for node, _ in model.most_similar('paulo_dybala'):\n",
        "    print(node)"
      ],
      "execution_count": 16,
      "outputs": [
        {
          "output_type": "stream",
          "text": [
            "gonzalo_higuain\n",
            "juan_cuadrado\n",
            "mario_mandzukic\n",
            "juventus\n",
            "sami_khedira\n",
            "stephan_lichtsteiner\n",
            "alex_sandro\n",
            "miralem_pjanic\n",
            "leonardo_bonucci\n",
            "giorgio_chiellini\n"
          ],
          "name": "stdout"
        }
      ]
    },
    {
      "cell_type": "markdown",
      "metadata": {
        "id": "KZrvVOlvqq4n",
        "colab_type": "text"
      },
      "source": [
        "#### Visualization"
      ]
    },
    {
      "cell_type": "code",
      "metadata": {
        "id": "kql8Nhu6qq4o",
        "colab_type": "code",
        "colab": {}
      },
      "source": [
        "player_nodes = [x for x in model.wv.vocab if len(x) > 3 and x not in clubs]\n",
        "embeddings = np.array([model.wv[x] for x in player_nodes])"
      ],
      "execution_count": 17,
      "outputs": []
    },
    {
      "cell_type": "code",
      "metadata": {
        "id": "h7xvVktnqq4t",
        "colab_type": "code",
        "colab": {}
      },
      "source": [
        "tsne = TSNE(n_components=2, random_state=7, perplexity=15)\n",
        "embeddings_2d = tsne.fit_transform(embeddings)"
      ],
      "execution_count": 18,
      "outputs": []
    },
    {
      "cell_type": "code",
      "metadata": {
        "id": "Acfp1Xgoqq4x",
        "colab_type": "code",
        "colab": {}
      },
      "source": [
        "# Assign colors to players\n",
        "team_colors = {\n",
        "    'real_madrid': 'lightblue',\n",
        "    'chelsea': 'b',\n",
        "    'manchester_utd': 'r',\n",
        "    'manchester_city': 'teal',\n",
        "    'juventus': 'gainsboro',\n",
        "    'napoli': 'deepskyblue',\n",
        "    'fc_bayern': 'tomato' \n",
        "}\n",
        "\n",
        "data['color'] = data['club'].apply(lambda x: team_colors[x])\n",
        "player_colors = dict(zip(data['name'], data['color']))\n",
        "colors = [player_colors[x] for x in player_nodes]"
      ],
      "execution_count": 19,
      "outputs": []
    },
    {
      "cell_type": "code",
      "metadata": {
        "id": "OA4k48f_qq41",
        "colab_type": "code",
        "colab": {
          "base_uri": "https://localhost:8080/",
          "height": 537
        },
        "outputId": "1debfa9b-49a6-4daf-dbaa-8d5174d09235"
      },
      "source": [
        "figure = plt.figure(figsize=(11, 9))\n",
        "\n",
        "ax = figure.add_subplot(111)\n",
        "\n",
        "ax.scatter(embeddings_2d[:, 0], embeddings_2d[:, 1], c=colors)\n",
        "\n",
        "# Create team patches for legend\n",
        "team_patches = [mpatches.Patch(color=color, label=team) for team, color in team_colors.items()]\n",
        "ax.legend(handles=team_patches);"
      ],
      "execution_count": 20,
      "outputs": [
        {
          "output_type": "display_data",
          "data": {
            "image/png": "[encoded data removed]",
            "text/plain": [
              "<Figure size 792x648 with 1 Axes>"
            ]
          },
          "metadata": {
            "tags": []
          }
        }
      ]
    }
  ]
}